{
 "cells": [
  {
   "cell_type": "code",
   "execution_count": 1,
   "metadata": {},
   "outputs": [],
   "source": [
    "import tushare as ts\n",
    "import talib\n",
    "from sklearn import svm"
   ]
  },
  {
   "cell_type": "code",
   "execution_count": 2,
   "metadata": {},
   "outputs": [],
   "source": [
    "# 获取上证指数数据\n",
    "df=ts.get_hist_data('sh',start='2018-07-09',end='2019-05-31')\n",
    "close_pri=df['close']\n",
    "close_pri = close_pri.sort_index(ascending=True)"
   ]
  },
  {
   "cell_type": "code",
   "execution_count": 3,
   "metadata": {},
   "outputs": [],
   "source": [
    "# 定义训练数据\n",
    "x_train = []\n",
    "y_train = []"
   ]
  },
  {
   "cell_type": "code",
   "execution_count": 4,
   "metadata": {},
   "outputs": [],
   "source": [
    "for index in range(2,len(close_pri)):\n",
    "    # 取数据[-2]表示使用的特征是由今天之前的数据计算得到的\n",
    "    sma_data = talib.SMA(close_pri[:index],timeperiod=7)[-2]\n",
    "    wma_data = talib.WMA(close_pri[:index],timeperiod=7)[-2]\n",
    "    mom_data = talib.MOM(close_pri[:index],timeperiod=7)[-2]\n",
    "    \n",
    "    features = []\n",
    "    features.append(sma_data)\n",
    "    features.append(wma_data)\n",
    "    features.append(mom_data)\n",
    "    x_train.append(features)\n",
    "    \n",
    "    # 对今天的交易进行打标签，涨则标记1，跌则标记-1\n",
    "    if close_pri[index-1] < close_pri[index]:\n",
    "        label = 1\n",
    "    else:\n",
    "        label = -1\n",
    "    y_train.append(label)"
   ]
  },
  {
   "cell_type": "code",
   "execution_count": 5,
   "metadata": {},
   "outputs": [],
   "source": [
    "# 去除前7天的数据，因为部分sma/wma/mom数值为nan\n",
    "X_Train = x_train[7:]\n",
    "Y_Train = y_train[7:]"
   ]
  },
  {
   "cell_type": "code",
   "execution_count": 6,
   "metadata": {},
   "outputs": [
    {
     "data": {
      "text/plain": [
       "SVC(C=1.0, cache_size=200, class_weight=None, coef0=0.0,\n",
       "  decision_function_shape='ovr', degree=3, gamma='auto', kernel='rbf',\n",
       "  max_iter=-1, probability=False, random_state=None, shrinking=True,\n",
       "  tol=0.001, verbose=False)"
      ]
     },
     "execution_count": 6,
     "metadata": {},
     "output_type": "execute_result"
    }
   ],
   "source": [
    "# svm进行分类\n",
    "clf = svm.SVC()\n",
    "clf.fit(X_Train,Y_Train)"
   ]
  },
  {
   "cell_type": "code",
   "execution_count": 7,
   "metadata": {},
   "outputs": [
    {
     "name": "stdout",
     "output_type": "stream",
     "text": [
      "[ True]\n"
     ]
    }
   ],
   "source": [
    "# 数据仅仅使用了2到len(close_pri)，所以最后一个数据没有参与分类，拿来试试\n",
    "sma_test = talib.SMA(close_pri,timeperiod=7)[-2]\n",
    "wma_test = talib.WMA(close_pri,timeperiod=7)[-2]\n",
    "mom_test = talib.MOM(close_pri,timeperiod=7)[-2]\n",
    "x_test = [[sma_test,wma_test,mom_test]]\n",
    "y_test = -1\n",
    "prediction = clf.predict(x_test)\n",
    "print(prediction == y_test)"
   ]
  }
 ],
 "metadata": {
  "kernelspec": {
   "display_name": "Python 3",
   "language": "python",
   "name": "python3"
  },
  "language_info": {
   "codemirror_mode": {
    "name": "ipython",
    "version": 3
   },
   "file_extension": ".py",
   "mimetype": "text/x-python",
   "name": "python",
   "nbconvert_exporter": "python",
   "pygments_lexer": "ipython3",
   "version": "3.6.5"
  }
 },
 "nbformat": 4,
 "nbformat_minor": 2
}
